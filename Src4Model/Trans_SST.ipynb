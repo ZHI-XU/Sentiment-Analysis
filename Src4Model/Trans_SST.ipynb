{
 "nbformat": 4,
 "nbformat_minor": 0,
 "metadata": {
  "kernelspec": {
   "display_name": "Python 3",
   "language": "python",
   "name": "python3"
  },
  "language_info": {
   "codemirror_mode": {
    "name": "ipython",
    "version": 3
   },
   "file_extension": ".py",
   "mimetype": "text/x-python",
   "name": "python",
   "nbconvert_exporter": "python",
   "pygments_lexer": "ipython3",
   "version": "3.7.6"
  },
  "colab": {
   "name": "Trans_SST.ipynb",
   "provenance": [],
   "collapsed_sections": [],
   "toc_visible": true
  },
  "accelerator": "GPU"
 },
 "cells": [
  {
   "cell_type": "markdown",
   "metadata": {
    "id": "gwcXt_Kcne5N"
   },
   "source": [
    "# Transformer"
   ]
  },
  {
   "cell_type": "code",
   "metadata": {
    "id": "tq9imcf0ne5o",
    "executionInfo": {
     "status": "ok",
     "timestamp": 1618553626130,
     "user_tz": -480,
     "elapsed": 4385,
     "user": {
      "displayName": "柳箜铭",
      "photoUrl": "https://lh3.googleusercontent.com/a-/AOh14GhwCICr9ID5QfKQ8gBpGLnwTSXha1wSAt2FGshyhQ=s64",
      "userId": "16745569133448555194"
     }
    }
   },
   "source": [
    "import os\n",
    "import numpy as np\n",
    "import string\n",
    "import matplotlib.pyplot as plt\n",
    "import seaborn as sns\n",
    "import tensorflow as tf\n",
    "import pickle\n",
    "\n",
    "\n",
    "from gensim.models import Word2Vec\n",
    "from gensim.utils import simple_preprocess\n",
    "from gensim.models.keyedvectors import KeyedVectors\n",
    "\n",
    "from tensorflow import keras\n",
    "from tensorflow.keras import layers\n",
    "from tensorflow.keras.models import load_model\n",
    "from tensorflow.keras.activations import relu\n",
    "from tensorflow.keras.models import Sequential, Model\n",
    "from tensorflow.keras.layers import (\n",
    "    Input,\n",
    "    Dense,\n",
    "    Embedding,\n",
    "    Flatten,\n",
    "    Conv1D,\n",
    "    MaxPooling1D,\n",
    "    Add,\n",
    "    Lambda,\n",
    "    Dropout,\n",
    "    concatenate,\n",
    ")\n",
    "from tensorflow.keras.preprocessing.text import Tokenizer\n",
    "from tensorflow.keras.preprocessing.sequence import pad_sequences\n",
    "from tensorflow.keras.backend import l2_normalize\n",
    "from tensorflow.keras.callbacks import ModelCheckpoint, EarlyStopping\n",
    "\n",
    "from sklearn.metrics import classification_report\n",
    "from nltk.corpus import stopwords\n",
    "from sklearn.preprocessing import LabelEncoder, OneHotEncoder\n",
    "from IPython.display import SVG"
   ],
   "execution_count": 2,
   "outputs": []
  },
  {
   "cell_type": "code",
   "metadata": {
    "id": "q_GjM47tne5r",
    "executionInfo": {
     "status": "ok",
     "timestamp": 1618553630567,
     "user_tz": -480,
     "elapsed": 8418,
     "user": {
      "displayName": "柳箜铭",
      "photoUrl": "https://lh3.googleusercontent.com/a-/AOh14GhwCICr9ID5QfKQ8gBpGLnwTSXha1wSAt2FGshyhQ=s64",
      "userId": "16745569133448555194"
     }
    }
   },
   "source": [
    "import pandas as pd\n",
    "\n",
    "train_df = pd.read_csv(\n",
    "    \"../SST-2/train.csv\", header=None, sep=\"\\t\", names=[\"label\", \"text\"]\n",
    ")\n",
    "dev_df = pd.read_csv(\n",
    "    \"../SST-2/dev.csv\", header=None, sep=\"\\t\", names=[\"label\", \"text\"]\n",
    ")\n",
    "test_df = pd.read_csv(\n",
    "    \"../SST-2/test.csv\", header=None, sep=\"\\t\", names=[\"label\", \"text\"]\n",
    ")\n",
    "\n",
    "\n",
    "def ModiData(obj_df):\n",
    "    obj_df = obj_df[obj_df[\"label\"] != 2]\n",
    "    # obj_df[\"label\"] = obj_df[\"label\"].astype(string)\n",
    "    obj_df.label = obj_df.label.replace(0, \"neg\")\n",
    "    obj_df.label = obj_df.label.replace(1, \"neg\")\n",
    "    obj_df.label = obj_df.label.replace(3, \"pos\")\n",
    "    obj_df.label = obj_df.label.replace(4, \"pos\")\n",
    "    obj_df = obj_df.fillna(0)\n",
    "    # obj_df[\"label\"] = obj_df[\"label\"].astype(int)\n",
    "    return obj_df\n",
    "\n",
    "\n",
    "def clean_line(line):\n",
    "    # split into tokens by white space\n",
    "    tokens = line.split()\n",
    "    # remove punctuation from each token\n",
    "    table = str.maketrans(\"\", \"\", string.punctuation)\n",
    "    tokens = [w.translate(table) for w in tokens]\n",
    "    # remove remaining tokens that are not alphabetic\n",
    "    tokens = [word for word in tokens if word.isalpha()]\n",
    "    # filter out stop words\n",
    "    stop_words = set(stopwords.words(\"english\"))\n",
    "    tokens = [w for w in tokens if not w in stop_words]\n",
    "    # filter out short tokens\n",
    "    tokens = [word for word in tokens if len(word) > 1]\n",
    "    return tokens\n",
    "\n",
    "\n",
    "def create_tokenizer(lines):\n",
    "    tokenizer = Tokenizer()\n",
    "    tokenizer.fit_on_texts(lines)\n",
    "    return tokenizer\n",
    "\n",
    "\n",
    "def encode_text(tokenizer, lines, length):\n",
    "    # integer encode\n",
    "    encoded = tokenizer.texts_to_sequences(lines)\n",
    "    # pad encoded sequences\n",
    "    padded = pad_sequences(encoded, maxlen=length, padding=\"post\")\n",
    "    return padded"
   ],
   "execution_count": 3,
   "outputs": []
  },
  {
   "cell_type": "code",
   "metadata": {
    "colab": {
     "base_uri": "https://localhost:8080/"
    },
    "id": "hoxxs-jane5t",
    "executionInfo": {
     "status": "ok",
     "timestamp": 1618553631997,
     "user_tz": -480,
     "elapsed": 9404,
     "user": {
      "displayName": "柳箜铭",
      "photoUrl": "https://lh3.googleusercontent.com/a-/AOh14GhwCICr9ID5QfKQ8gBpGLnwTSXha1wSAt2FGshyhQ=s64",
      "userId": "16745569133448555194"
     }
    },
    "outputId": "f8c6cc45-5924-47cd-84cc-5118e38b4e2b"
   },
   "source": [
    "train_df = ModiData(train_df)\n",
    "dev_df = ModiData(dev_df)\n",
    "test_df = ModiData(test_df)\n",
    "\n",
    "train_x = train_df.text.tolist()\n",
    "train_y = train_df.label\n",
    "dev_x = dev_df.text.tolist()\n",
    "dev_y = dev_df.label\n",
    "test_x = test_df.text.tolist()\n",
    "test_y = test_df.label\n",
    "\n",
    "max_len = 49\n",
    "# tokenizer = create_tokenizer(train_x)\n",
    "with open(\"../tokenizer/49in_SST.pickle\", \"rb\") as handle:\n",
    "    tokenizer = pickle.load(handle)\n",
    "# calculate vocabulary size\n",
    "vocab_size = len(tokenizer.word_index) + 1\n",
    "word_index = tokenizer.word_index\n",
    "train_x = encode_text(tokenizer, train_x, max_len)\n",
    "dev_x = encode_text(tokenizer, dev_x, max_len)\n",
    "test_x = encode_text(tokenizer, test_x, max_len)\n",
    "\n",
    "le = LabelEncoder()\n",
    "train_y = le.fit_transform(train_y).reshape(-1, 1)\n",
    "dev_y = le.transform(dev_y).reshape(-1, 1)\n",
    "test_y = le.transform(test_y).reshape(-1, 1)"
   ],
   "execution_count": 4,
   "outputs": [
    {
     "output_type": "stream",
     "text": [
      "/usr/local/lib/python3.7/dist-packages/pandas/core/generic.py:5170: SettingWithCopyWarning: \n",
      "A value is trying to be set on a copy of a slice from a DataFrame.\n",
      "Try using .loc[row_indexer,col_indexer] = value instead\n",
      "\n",
      "See the caveats in the documentation: https://pandas.pydata.org/pandas-docs/stable/user_guide/indexing.html#returning-a-view-versus-a-copy\n",
      "  self[name] = value\n",
      "/usr/local/lib/python3.7/dist-packages/pandas/core/generic.py:5170: SettingWithCopyWarning: \n",
      "A value is trying to be set on a copy of a slice from a DataFrame.\n",
      "Try using .loc[row_indexer,col_indexer] = value instead\n",
      "\n",
      "See the caveats in the documentation: https://pandas.pydata.org/pandas-docs/stable/user_guide/indexing.html#returning-a-view-versus-a-copy\n",
      "  self[name] = value\n",
      "/usr/local/lib/python3.7/dist-packages/pandas/core/generic.py:5170: SettingWithCopyWarning: \n",
      "A value is trying to be set on a copy of a slice from a DataFrame.\n",
      "Try using .loc[row_indexer,col_indexer] = value instead\n",
      "\n",
      "See the caveats in the documentation: https://pandas.pydata.org/pandas-docs/stable/user_guide/indexing.html#returning-a-view-versus-a-copy\n",
      "  self[name] = value\n"
     ],
     "name": "stderr"
    }
   ]
  },
  {
   "cell_type": "markdown",
   "metadata": {
    "id": "JtoxFTHhne5v"
   },
   "source": [
    "## Model"
   ]
  },
  {
   "cell_type": "code",
   "metadata": {
    "id": "nRY9fFG2mHO1",
    "executionInfo": {
     "status": "ok",
     "timestamp": 1618553631998,
     "user_tz": -480,
     "elapsed": 8090,
     "user": {
      "displayName": "柳箜铭",
      "photoUrl": "https://lh3.googleusercontent.com/a-/AOh14GhwCICr9ID5QfKQ8gBpGLnwTSXha1wSAt2FGshyhQ=s64",
      "userId": "16745569133448555194"
     }
    }
   },
   "source": [
    "class TransformerBlock(layers.Layer):\n",
    "    def __init__(self, embed_dim, num_heads, ff_dim, rate=0.1):\n",
    "        super(TransformerBlock, self).__init__()\n",
    "\n",
    "        self.embed_dim = embed_dim\n",
    "        self.num_heads = num_heads\n",
    "        self.ff_dim = ff_dim\n",
    "\n",
    "        self.att = layers.MultiHeadAttention(num_heads=num_heads, key_dim=embed_dim)\n",
    "        self.ffn = keras.Sequential(\n",
    "            [layers.Dense(ff_dim, activation=\"relu\"), layers.Dense(embed_dim),]\n",
    "        )\n",
    "        self.layernorm1 = layers.LayerNormalization(epsilon=1e-6)\n",
    "        self.layernorm2 = layers.LayerNormalization(epsilon=1e-6)\n",
    "        self.dropout1 = layers.Dropout(rate)\n",
    "        self.dropout2 = layers.Dropout(rate)\n",
    "\n",
    "    def call(self, inputs, training):\n",
    "        attn_output = self.att(inputs, inputs)\n",
    "        attn_output = self.dropout1(attn_output, training=training)\n",
    "        out1 = self.layernorm1(inputs + attn_output)\n",
    "        ffn_output = self.ffn(out1)\n",
    "        ffn_output = self.dropout2(ffn_output, training=training)\n",
    "        return self.layernorm2(out1 + ffn_output)\n",
    "\n",
    "    def get_config(self):\n",
    "        config = super().get_config().copy()\n",
    "        config.update({\n",
    "            'embed_dim': self.embed_dim,\n",
    "            'num_heads': self.num_heads,\n",
    "            'ff_dim': self.ff_dim,\n",
    "        })\n",
    "        return config\n",
    "\n",
    "class TokenAndPositionEmbedding(layers.Layer):\n",
    "    def __init__(self, maxlen, vocab_size, embed_dim):\n",
    "        super(TokenAndPositionEmbedding, self).__init__()\n",
    "        self.vocab_size = vocab_size\n",
    "        self.maxlen = maxlen\n",
    "        self.embed_dim = embed_dim\n",
    "        self.token_emb = layers.Embedding(input_dim=vocab_size, output_dim=embed_dim)\n",
    "        self.pos_emb = layers.Embedding(input_dim=maxlen, output_dim=embed_dim)\n",
    "\n",
    "    def call(self, x):\n",
    "        maxlen = tf.shape(x)[-1]\n",
    "        positions = tf.range(start=0, limit=maxlen, delta=1)\n",
    "        positions = self.pos_emb(positions)\n",
    "        x = self.token_emb(x)\n",
    "        return x + positions\n",
    "\n",
    "    def get_config(self):\n",
    "        config = super().get_config().copy()\n",
    "        config.update({\n",
    "            'vocab_size': self.vocab_size,\n",
    "            'maxlen': self.maxlen,\n",
    "            'embed_dim': self.embed_dim,\n",
    "        })\n",
    "        return config"
   ],
   "execution_count": 5,
   "outputs": []
  },
  {
   "cell_type": "code",
   "metadata": {
    "id": "b8g1hAT9ne5w",
    "executionInfo": {
     "status": "ok",
     "timestamp": 1618553631999,
     "user_tz": -480,
     "elapsed": 2927,
     "user": {
      "displayName": "柳箜铭",
      "photoUrl": "https://lh3.googleusercontent.com/a-/AOh14GhwCICr9ID5QfKQ8gBpGLnwTSXha1wSAt2FGshyhQ=s64",
      "userId": "16745569133448555194"
     }
    }
   },
   "source": [
    "def get_Trans(max_len):\n",
    "    embed_dim = 32  # Embedding size for each token\n",
    "    num_heads = 2  # Number of attention heads\n",
    "    ff_dim = 32  # Hidden layer size in feed forward network inside transformer\n",
    "\n",
    "\n",
    "    embedding_layer = TokenAndPositionEmbedding(max_len, len(word_index)+1, embed_dim)\n",
    "\n",
    "    inputs = Input(shape=(max_len,), dtype=\"int32\", name=\"input\")\n",
    "    x = embedding_layer(inputs)\n",
    "    transformer_block = TransformerBlock(embed_dim, num_heads, ff_dim)\n",
    "    x = transformer_block(x)\n",
    "    x = layers.GlobalAveragePooling1D()(x)\n",
    "    x = layers.Dropout(0.1)(x)\n",
    "    x = layers.Dense(20, activation=\"relu\")(x)\n",
    "    # x = layers.Dropout(0.1)(x)\n",
    "\n",
    "    o = Dense(1, activation=\"sigmoid\", name=\"output\")(x)\n",
    "\n",
    "    model = Model(inputs=inputs, outputs=o)\n",
    "    model.compile(loss=\"binary_crossentropy\", optimizer=\"adam\", metrics=[\"acc\"])\n",
    "\n",
    "    return model"
   ],
   "execution_count": 6,
   "outputs": []
  },
  {
   "cell_type": "code",
   "metadata": {
    "id": "n19GzqOvne5z",
    "executionInfo": {
     "status": "ok",
     "timestamp": 1618553632628,
     "user_tz": -480,
     "elapsed": 1956,
     "user": {
      "displayName": "柳箜铭",
      "photoUrl": "https://lh3.googleusercontent.com/a-/AOh14GhwCICr9ID5QfKQ8gBpGLnwTSXha1wSAt2FGshyhQ=s64",
      "userId": "16745569133448555194"
     }
    }
   },
   "source": [
    "class myCallback(tf.keras.callbacks.Callback):\n",
    "    def on_epoch_end(self, epoch, logs={}):\n",
    "        if logs.get(\"val_acc\") > 0.8:\n",
    "            print(\"\\nReached 80% accuracy so cancelling training!\")\n",
    "            self.model.stop_training = True\n",
    "\n",
    "\n",
    "beststop = myCallback()\n",
    "earlystop = EarlyStopping(monitor=\"val_loss\", min_delta=0.0001)\n",
    "checkpointer = ModelCheckpoint(filepath=\"./weights.hdf5\", verbose=1)"
   ],
   "execution_count": 7,
   "outputs": []
  },
  {
   "cell_type": "code",
   "metadata": {
    "id": "2_NteEQzne50",
    "executionInfo": {
     "status": "ok",
     "timestamp": 1618553632628,
     "user_tz": -480,
     "elapsed": 687,
     "user": {
      "displayName": "柳箜铭",
      "photoUrl": "https://lh3.googleusercontent.com/a-/AOh14GhwCICr9ID5QfKQ8gBpGLnwTSXha1wSAt2FGshyhQ=s64",
      "userId": "16745569133448555194"
     }
    }
   },
   "source": [
    "def TrainModel(num):\n",
    "    while num > 0:\n",
    "        model = get_Trans(max_len)\n",
    "        # model.summary()\n",
    "        history = model.fit(\n",
    "            x=train_x,\n",
    "            y=train_y,\n",
    "            batch_size=50,\n",
    "            epochs=20,\n",
    "            validation_data=(test_x, test_y),\n",
    "            callbacks=[earlystop],\n",
    "        )\n",
    "        if history.history[\"val_acc\"][-1] > 0.8:\n",
    "            save_name = (\n",
    "                \"../Model/Trans_SST/\"\n",
    "                + str(history.history[\"val_loss\"][-1])[2:6]\n",
    "                + \"_\"\n",
    "                + str(history.history[\"val_acc\"][-1])[2:6]\n",
    "                + \".hdf5\"\n",
    "            )\n",
    "            num -= 1\n",
    "            model.save(save_name)"
   ],
   "execution_count": 8,
   "outputs": []
  },
  {
   "cell_type": "code",
   "metadata": {
    "collapsed": true,
    "jupyter": {
     "outputs_hidden": true
    },
    "colab": {
     "base_uri": "https://localhost:8080/"
    },
    "id": "XgZP84VHne53",
    "executionInfo": {
     "status": "ok",
     "timestamp": 1618553903564,
     "user_tz": -480,
     "elapsed": 111031,
     "user": {
      "displayName": "柳箜铭",
      "photoUrl": "https://lh3.googleusercontent.com/a-/AOh14GhwCICr9ID5QfKQ8gBpGLnwTSXha1wSAt2FGshyhQ=s64",
      "userId": "16745569133448555194"
     }
    },
    "outputId": "0fb89f8c-7231-446d-fcaa-a6699ec268db"
   },
   "source": [
    "TrainModel(10)"
   ],
   "execution_count": 10,
   "outputs": [
    {
     "output_type": "stream",
     "text": [
      "Epoch 1/20\n",
      "139/139 [==============================] - 3s 12ms/step - loss: 0.6881 - acc: 0.5319 - val_loss: 0.6113 - val_acc: 0.6118\n",
      "Epoch 2/20\n",
      "139/139 [==============================] - 1s 10ms/step - loss: 0.4494 - acc: 0.7983 - val_loss: 0.4155 - val_acc: 0.8100\n",
      "Epoch 3/20\n",
      "139/139 [==============================] - 1s 10ms/step - loss: 0.1756 - acc: 0.9383 - val_loss: 0.5118 - val_acc: 0.8018\n",
      "Epoch 1/20\n",
      "139/139 [==============================] - 3s 12ms/step - loss: 0.6865 - acc: 0.5332 - val_loss: 0.5328 - val_acc: 0.7600\n",
      "Epoch 2/20\n",
      "139/139 [==============================] - 1s 10ms/step - loss: 0.4077 - acc: 0.8140 - val_loss: 0.4790 - val_acc: 0.7820\n",
      "Epoch 3/20\n",
      "139/139 [==============================] - 1s 10ms/step - loss: 0.1691 - acc: 0.9372 - val_loss: 0.5072 - val_acc: 0.8138\n",
      "Epoch 1/20\n",
      "139/139 [==============================] - 3s 12ms/step - loss: 0.6959 - acc: 0.5306 - val_loss: 0.6356 - val_acc: 0.7090\n",
      "Epoch 2/20\n",
      "139/139 [==============================] - 1s 10ms/step - loss: 0.5143 - acc: 0.7879 - val_loss: 0.4191 - val_acc: 0.8138\n",
      "Epoch 3/20\n",
      "139/139 [==============================] - 1s 10ms/step - loss: 0.1898 - acc: 0.9288 - val_loss: 0.6277 - val_acc: 0.7683\n",
      "Epoch 1/20\n",
      "139/139 [==============================] - 3s 12ms/step - loss: 0.6974 - acc: 0.5289 - val_loss: 0.6016 - val_acc: 0.7315\n",
      "Epoch 2/20\n",
      "139/139 [==============================] - 1s 10ms/step - loss: 0.4732 - acc: 0.7897 - val_loss: 0.4209 - val_acc: 0.8144\n",
      "Epoch 3/20\n",
      "139/139 [==============================] - 1s 10ms/step - loss: 0.1666 - acc: 0.9356 - val_loss: 0.4785 - val_acc: 0.8138\n",
      "Epoch 1/20\n",
      "139/139 [==============================] - 3s 12ms/step - loss: 0.6925 - acc: 0.5349 - val_loss: 0.5609 - val_acc: 0.7496\n",
      "Epoch 2/20\n",
      "139/139 [==============================] - 1s 10ms/step - loss: 0.4317 - acc: 0.8102 - val_loss: 0.4355 - val_acc: 0.8067\n",
      "Epoch 3/20\n",
      "139/139 [==============================] - 1s 10ms/step - loss: 0.1624 - acc: 0.9392 - val_loss: 0.5177 - val_acc: 0.8045\n",
      "Epoch 1/20\n",
      "139/139 [==============================] - 3s 12ms/step - loss: 0.6917 - acc: 0.5144 - val_loss: 0.5707 - val_acc: 0.7188\n",
      "Epoch 2/20\n",
      "139/139 [==============================] - 1s 10ms/step - loss: 0.4549 - acc: 0.7898 - val_loss: 0.4963 - val_acc: 0.7540\n",
      "Epoch 3/20\n",
      "139/139 [==============================] - 1s 10ms/step - loss: 0.2175 - acc: 0.9178 - val_loss: 0.5739 - val_acc: 0.7759\n",
      "Epoch 1/20\n",
      "139/139 [==============================] - 3s 12ms/step - loss: 0.6925 - acc: 0.5254 - val_loss: 0.6260 - val_acc: 0.5931\n",
      "Epoch 2/20\n",
      "139/139 [==============================] - 1s 10ms/step - loss: 0.4611 - acc: 0.7916 - val_loss: 0.4341 - val_acc: 0.7974\n",
      "Epoch 3/20\n",
      "139/139 [==============================] - 1s 11ms/step - loss: 0.1899 - acc: 0.9315 - val_loss: 0.5256 - val_acc: 0.7963\n",
      "Epoch 1/20\n",
      "139/139 [==============================] - 3s 13ms/step - loss: 0.6747 - acc: 0.5714 - val_loss: 0.5376 - val_acc: 0.7529\n",
      "Epoch 2/20\n",
      "139/139 [==============================] - 2s 11ms/step - loss: 0.4127 - acc: 0.8311 - val_loss: 0.4707 - val_acc: 0.7776\n",
      "Epoch 3/20\n",
      "139/139 [==============================] - 2s 12ms/step - loss: 0.1904 - acc: 0.9243 - val_loss: 0.5491 - val_acc: 0.7875\n",
      "Epoch 1/20\n",
      "139/139 [==============================] - 3s 13ms/step - loss: 0.6889 - acc: 0.5356 - val_loss: 0.6036 - val_acc: 0.7079\n",
      "Epoch 2/20\n",
      "139/139 [==============================] - 2s 11ms/step - loss: 0.4824 - acc: 0.7905 - val_loss: 0.4404 - val_acc: 0.8029\n",
      "Epoch 3/20\n",
      "139/139 [==============================] - 1s 10ms/step - loss: 0.1713 - acc: 0.9391 - val_loss: 0.4761 - val_acc: 0.8116\n",
      "Epoch 1/20\n",
      "139/139 [==============================] - 3s 12ms/step - loss: 0.7026 - acc: 0.5393 - val_loss: 0.6044 - val_acc: 0.7035\n",
      "Epoch 2/20\n",
      "139/139 [==============================] - 1s 10ms/step - loss: 0.4644 - acc: 0.8030 - val_loss: 0.6135 - val_acc: 0.7100\n",
      "Epoch 1/20\n",
      "139/139 [==============================] - 3s 12ms/step - loss: 0.6958 - acc: 0.5117 - val_loss: 0.6862 - val_acc: 0.4992\n",
      "Epoch 2/20\n",
      "139/139 [==============================] - 1s 10ms/step - loss: 0.5850 - acc: 0.6802 - val_loss: 0.4280 - val_acc: 0.8127\n",
      "Epoch 3/20\n",
      "139/139 [==============================] - 1s 10ms/step - loss: 0.2092 - acc: 0.9204 - val_loss: 0.4484 - val_acc: 0.8133\n",
      "Epoch 1/20\n",
      "139/139 [==============================] - 3s 12ms/step - loss: 0.6901 - acc: 0.5513 - val_loss: 0.6001 - val_acc: 0.7057\n",
      "Epoch 2/20\n",
      "139/139 [==============================] - 1s 10ms/step - loss: 0.4659 - acc: 0.7889 - val_loss: 0.4322 - val_acc: 0.8034\n",
      "Epoch 3/20\n",
      "139/139 [==============================] - 1s 10ms/step - loss: 0.1714 - acc: 0.9356 - val_loss: 0.4841 - val_acc: 0.8138\n",
      "Epoch 1/20\n",
      "139/139 [==============================] - 3s 13ms/step - loss: 0.6881 - acc: 0.5418 - val_loss: 0.5676 - val_acc: 0.7584\n",
      "Epoch 2/20\n",
      "139/139 [==============================] - 1s 10ms/step - loss: 0.4311 - acc: 0.8174 - val_loss: 0.4557 - val_acc: 0.7842\n",
      "Epoch 3/20\n",
      "139/139 [==============================] - 1s 10ms/step - loss: 0.1641 - acc: 0.9459 - val_loss: 0.5637 - val_acc: 0.7831\n",
      "Epoch 1/20\n",
      "139/139 [==============================] - 3s 12ms/step - loss: 0.6969 - acc: 0.5211 - val_loss: 0.6517 - val_acc: 0.5645\n",
      "Epoch 2/20\n",
      "139/139 [==============================] - 1s 10ms/step - loss: 0.5172 - acc: 0.7478 - val_loss: 0.4080 - val_acc: 0.8199\n",
      "Epoch 3/20\n",
      "139/139 [==============================] - 1s 10ms/step - loss: 0.1968 - acc: 0.9275 - val_loss: 0.4864 - val_acc: 0.7985\n",
      "Epoch 1/20\n",
      "139/139 [==============================] - 3s 12ms/step - loss: 0.6935 - acc: 0.5251 - val_loss: 0.6403 - val_acc: 0.7331\n",
      "Epoch 2/20\n",
      "139/139 [==============================] - 1s 10ms/step - loss: 0.5204 - acc: 0.7748 - val_loss: 0.5276 - val_acc: 0.7650\n",
      "Epoch 3/20\n",
      "139/139 [==============================] - 1s 10ms/step - loss: 0.1800 - acc: 0.9291 - val_loss: 0.5276 - val_acc: 0.7974\n",
      "Epoch 1/20\n",
      "139/139 [==============================] - 3s 12ms/step - loss: 0.7026 - acc: 0.5255 - val_loss: 0.6256 - val_acc: 0.6727\n",
      "Epoch 2/20\n",
      "139/139 [==============================] - 1s 10ms/step - loss: 0.5222 - acc: 0.7421 - val_loss: 0.4157 - val_acc: 0.8171\n",
      "Epoch 3/20\n",
      "139/139 [==============================] - 1s 10ms/step - loss: 0.1892 - acc: 0.9266 - val_loss: 0.4611 - val_acc: 0.8122\n",
      "Epoch 1/20\n",
      "139/139 [==============================] - 3s 11ms/step - loss: 0.6866 - acc: 0.5518 - val_loss: 0.5554 - val_acc: 0.7051\n",
      "Epoch 2/20\n",
      "139/139 [==============================] - 1s 11ms/step - loss: 0.4103 - acc: 0.8183 - val_loss: 0.4523 - val_acc: 0.7935\n",
      "Epoch 3/20\n",
      "139/139 [==============================] - 1s 10ms/step - loss: 0.1857 - acc: 0.9320 - val_loss: 0.4761 - val_acc: 0.8155\n",
      "Epoch 1/20\n",
      "139/139 [==============================] - 3s 12ms/step - loss: 0.6924 - acc: 0.5346 - val_loss: 0.5723 - val_acc: 0.7496\n",
      "Epoch 2/20\n",
      "139/139 [==============================] - 1s 10ms/step - loss: 0.4498 - acc: 0.8045 - val_loss: 0.4417 - val_acc: 0.8018\n",
      "Epoch 3/20\n",
      "139/139 [==============================] - 1s 10ms/step - loss: 0.1725 - acc: 0.9350 - val_loss: 0.4947 - val_acc: 0.8029\n"
     ],
     "name": "stdout"
    }
   ]
  },
  {
   "cell_type": "code",
   "metadata": {
    "id": "DrRb6_yVne6K"
   },
   "source": [
    "# del model\n",
    "model = get_Trans(max_len)\n",
    "model.summary()"
   ],
   "execution_count": null,
   "outputs": []
  },
  {
   "cell_type": "code",
   "metadata": {
    "id": "zPnpaWf_ne6K"
   },
   "source": [
    "from tensorflow.keras.models import load_model\n",
    "\n",
    "# 保存模型\n",
    "# model.save(\"10in_32unit_temp_res.h5\")\n",
    "# del model  # deletes the existing model\n",
    "# 导入已经训练好的模型\n",
    "# model = load_model(\"my_model.h5\")\n",
    "## 保存训练好的Tokenizer，和导入\n",
    "import pickle\n",
    "\n",
    "# saving\n",
    "with open(\"../tokenizer/49in_SST.pickle\", \"wb\") as handle:\n",
    "    pickle.dump(tokenizer, handle, protocol=pickle.HIGHEST_PROTOCOL)"
   ],
   "execution_count": null,
   "outputs": []
  },
  {
   "cell_type": "code",
   "metadata": {
    "colab": {
     "base_uri": "https://localhost:8080/",
     "height": 743
    },
    "id": "dCKauqOfne6L",
    "executionInfo": {
     "status": "error",
     "timestamp": 1618040790731,
     "user_tz": -480,
     "elapsed": 799,
     "user": {
      "displayName": "柳箜铭",
      "photoUrl": "https://lh3.googleusercontent.com/a-/AOh14GhwCICr9ID5QfKQ8gBpGLnwTSXha1wSAt2FGshyhQ=s64",
      "userId": "16745569133448555194"
     }
    },
    "outputId": "0dfa94e3-8a59-4c23-c3f7-8d9b7a22d876"
   },
   "source": [
    "loss, accuracy = model.evaluate(x=[test_x, test_x], y=test_y, verbose=0)\n",
    "print(loss)\n",
    "print(accuracy)"
   ],
   "execution_count": null,
   "outputs": [
    {
     "output_type": "error",
     "ename": "ValueError",
     "evalue": "ignored",
     "traceback": [
      "\u001B[0;31m---------------------------------------------------------------------------\u001B[0m",
      "\u001B[0;31mValueError\u001B[0m                                Traceback (most recent call last)",
      "\u001B[0;32m<ipython-input-107-986df98acfc1>\u001B[0m in \u001B[0;36m<module>\u001B[0;34m()\u001B[0m\n\u001B[0;32m----> 1\u001B[0;31m \u001B[0mloss\u001B[0m\u001B[0;34m,\u001B[0m \u001B[0maccuracy\u001B[0m \u001B[0;34m=\u001B[0m \u001B[0mmodel\u001B[0m\u001B[0;34m.\u001B[0m\u001B[0mevaluate\u001B[0m\u001B[0;34m(\u001B[0m\u001B[0mx\u001B[0m\u001B[0;34m=\u001B[0m\u001B[0;34m[\u001B[0m\u001B[0mtest_x\u001B[0m\u001B[0;34m,\u001B[0m \u001B[0mtest_x\u001B[0m\u001B[0;34m]\u001B[0m\u001B[0;34m,\u001B[0m \u001B[0my\u001B[0m\u001B[0;34m=\u001B[0m\u001B[0mtest_y\u001B[0m\u001B[0;34m,\u001B[0m \u001B[0mverbose\u001B[0m\u001B[0;34m=\u001B[0m\u001B[0;36m0\u001B[0m\u001B[0;34m)\u001B[0m\u001B[0;34m\u001B[0m\u001B[0;34m\u001B[0m\u001B[0m\n\u001B[0m\u001B[1;32m      2\u001B[0m \u001B[0mprint\u001B[0m\u001B[0;34m(\u001B[0m\u001B[0mloss\u001B[0m\u001B[0;34m)\u001B[0m\u001B[0;34m\u001B[0m\u001B[0;34m\u001B[0m\u001B[0m\n\u001B[1;32m      3\u001B[0m \u001B[0mprint\u001B[0m\u001B[0;34m(\u001B[0m\u001B[0maccuracy\u001B[0m\u001B[0;34m)\u001B[0m\u001B[0;34m\u001B[0m\u001B[0;34m\u001B[0m\u001B[0m\n",
      "\u001B[0;32m/usr/local/lib/python3.7/dist-packages/tensorflow/python/keras/engine/training.py\u001B[0m in \u001B[0;36mevaluate\u001B[0;34m(self, x, y, batch_size, verbose, sample_weight, steps, callbacks, max_queue_size, workers, use_multiprocessing, return_dict)\u001B[0m\n\u001B[1;32m   1387\u001B[0m             \u001B[0;32mwith\u001B[0m \u001B[0mtrace\u001B[0m\u001B[0;34m.\u001B[0m\u001B[0mTrace\u001B[0m\u001B[0;34m(\u001B[0m\u001B[0;34m'test'\u001B[0m\u001B[0;34m,\u001B[0m \u001B[0mstep_num\u001B[0m\u001B[0;34m=\u001B[0m\u001B[0mstep\u001B[0m\u001B[0;34m,\u001B[0m \u001B[0m_r\u001B[0m\u001B[0;34m=\u001B[0m\u001B[0;36m1\u001B[0m\u001B[0;34m)\u001B[0m\u001B[0;34m:\u001B[0m\u001B[0;34m\u001B[0m\u001B[0;34m\u001B[0m\u001B[0m\n\u001B[1;32m   1388\u001B[0m               \u001B[0mcallbacks\u001B[0m\u001B[0;34m.\u001B[0m\u001B[0mon_test_batch_begin\u001B[0m\u001B[0;34m(\u001B[0m\u001B[0mstep\u001B[0m\u001B[0;34m)\u001B[0m\u001B[0;34m\u001B[0m\u001B[0;34m\u001B[0m\u001B[0m\n\u001B[0;32m-> 1389\u001B[0;31m               \u001B[0mtmp_logs\u001B[0m \u001B[0;34m=\u001B[0m \u001B[0mself\u001B[0m\u001B[0;34m.\u001B[0m\u001B[0mtest_function\u001B[0m\u001B[0;34m(\u001B[0m\u001B[0miterator\u001B[0m\u001B[0;34m)\u001B[0m\u001B[0;34m\u001B[0m\u001B[0;34m\u001B[0m\u001B[0m\n\u001B[0m\u001B[1;32m   1390\u001B[0m               \u001B[0;32mif\u001B[0m \u001B[0mdata_handler\u001B[0m\u001B[0;34m.\u001B[0m\u001B[0mshould_sync\u001B[0m\u001B[0;34m:\u001B[0m\u001B[0;34m\u001B[0m\u001B[0;34m\u001B[0m\u001B[0m\n\u001B[1;32m   1391\u001B[0m                 \u001B[0mcontext\u001B[0m\u001B[0;34m.\u001B[0m\u001B[0masync_wait\u001B[0m\u001B[0;34m(\u001B[0m\u001B[0;34m)\u001B[0m\u001B[0;34m\u001B[0m\u001B[0;34m\u001B[0m\u001B[0m\n",
      "\u001B[0;32m/usr/local/lib/python3.7/dist-packages/tensorflow/python/eager/def_function.py\u001B[0m in \u001B[0;36m__call__\u001B[0;34m(self, *args, **kwds)\u001B[0m\n\u001B[1;32m    826\u001B[0m     \u001B[0mtracing_count\u001B[0m \u001B[0;34m=\u001B[0m \u001B[0mself\u001B[0m\u001B[0;34m.\u001B[0m\u001B[0mexperimental_get_tracing_count\u001B[0m\u001B[0;34m(\u001B[0m\u001B[0;34m)\u001B[0m\u001B[0;34m\u001B[0m\u001B[0;34m\u001B[0m\u001B[0m\n\u001B[1;32m    827\u001B[0m     \u001B[0;32mwith\u001B[0m \u001B[0mtrace\u001B[0m\u001B[0;34m.\u001B[0m\u001B[0mTrace\u001B[0m\u001B[0;34m(\u001B[0m\u001B[0mself\u001B[0m\u001B[0;34m.\u001B[0m\u001B[0m_name\u001B[0m\u001B[0;34m)\u001B[0m \u001B[0;32mas\u001B[0m \u001B[0mtm\u001B[0m\u001B[0;34m:\u001B[0m\u001B[0;34m\u001B[0m\u001B[0;34m\u001B[0m\u001B[0m\n\u001B[0;32m--> 828\u001B[0;31m       \u001B[0mresult\u001B[0m \u001B[0;34m=\u001B[0m \u001B[0mself\u001B[0m\u001B[0;34m.\u001B[0m\u001B[0m_call\u001B[0m\u001B[0;34m(\u001B[0m\u001B[0;34m*\u001B[0m\u001B[0margs\u001B[0m\u001B[0;34m,\u001B[0m \u001B[0;34m**\u001B[0m\u001B[0mkwds\u001B[0m\u001B[0;34m)\u001B[0m\u001B[0;34m\u001B[0m\u001B[0;34m\u001B[0m\u001B[0m\n\u001B[0m\u001B[1;32m    829\u001B[0m       \u001B[0mcompiler\u001B[0m \u001B[0;34m=\u001B[0m \u001B[0;34m\"xla\"\u001B[0m \u001B[0;32mif\u001B[0m \u001B[0mself\u001B[0m\u001B[0;34m.\u001B[0m\u001B[0m_experimental_compile\u001B[0m \u001B[0;32melse\u001B[0m \u001B[0;34m\"nonXla\"\u001B[0m\u001B[0;34m\u001B[0m\u001B[0;34m\u001B[0m\u001B[0m\n\u001B[1;32m    830\u001B[0m       \u001B[0mnew_tracing_count\u001B[0m \u001B[0;34m=\u001B[0m \u001B[0mself\u001B[0m\u001B[0;34m.\u001B[0m\u001B[0mexperimental_get_tracing_count\u001B[0m\u001B[0;34m(\u001B[0m\u001B[0;34m)\u001B[0m\u001B[0;34m\u001B[0m\u001B[0;34m\u001B[0m\u001B[0m\n",
      "\u001B[0;32m/usr/local/lib/python3.7/dist-packages/tensorflow/python/eager/def_function.py\u001B[0m in \u001B[0;36m_call\u001B[0;34m(self, *args, **kwds)\u001B[0m\n\u001B[1;32m    860\u001B[0m       \u001B[0;31m# In this case we have not created variables on the first call. So we can\u001B[0m\u001B[0;34m\u001B[0m\u001B[0;34m\u001B[0m\u001B[0;34m\u001B[0m\u001B[0m\n\u001B[1;32m    861\u001B[0m       \u001B[0;31m# run the first trace but we should fail if variables are created.\u001B[0m\u001B[0;34m\u001B[0m\u001B[0;34m\u001B[0m\u001B[0;34m\u001B[0m\u001B[0m\n\u001B[0;32m--> 862\u001B[0;31m       \u001B[0mresults\u001B[0m \u001B[0;34m=\u001B[0m \u001B[0mself\u001B[0m\u001B[0;34m.\u001B[0m\u001B[0m_stateful_fn\u001B[0m\u001B[0;34m(\u001B[0m\u001B[0;34m*\u001B[0m\u001B[0margs\u001B[0m\u001B[0;34m,\u001B[0m \u001B[0;34m**\u001B[0m\u001B[0mkwds\u001B[0m\u001B[0;34m)\u001B[0m\u001B[0;34m\u001B[0m\u001B[0;34m\u001B[0m\u001B[0m\n\u001B[0m\u001B[1;32m    863\u001B[0m       \u001B[0;32mif\u001B[0m \u001B[0mself\u001B[0m\u001B[0;34m.\u001B[0m\u001B[0m_created_variables\u001B[0m\u001B[0;34m:\u001B[0m\u001B[0;34m\u001B[0m\u001B[0;34m\u001B[0m\u001B[0m\n\u001B[1;32m    864\u001B[0m         raise ValueError(\"Creating variables on a non-first call to a function\"\n",
      "\u001B[0;32m/usr/local/lib/python3.7/dist-packages/tensorflow/python/eager/function.py\u001B[0m in \u001B[0;36m__call__\u001B[0;34m(self, *args, **kwargs)\u001B[0m\n\u001B[1;32m   2939\u001B[0m     \u001B[0;32mwith\u001B[0m \u001B[0mself\u001B[0m\u001B[0;34m.\u001B[0m\u001B[0m_lock\u001B[0m\u001B[0;34m:\u001B[0m\u001B[0;34m\u001B[0m\u001B[0;34m\u001B[0m\u001B[0m\n\u001B[1;32m   2940\u001B[0m       (graph_function,\n\u001B[0;32m-> 2941\u001B[0;31m        filtered_flat_args) = self._maybe_define_function(args, kwargs)\n\u001B[0m\u001B[1;32m   2942\u001B[0m     return graph_function._call_flat(\n\u001B[1;32m   2943\u001B[0m         filtered_flat_args, captured_inputs=graph_function.captured_inputs)  # pylint: disable=protected-access\n",
      "\u001B[0;32m/usr/local/lib/python3.7/dist-packages/tensorflow/python/eager/function.py\u001B[0m in \u001B[0;36m_maybe_define_function\u001B[0;34m(self, args, kwargs)\u001B[0m\n\u001B[1;32m   3356\u001B[0m               call_context_key in self._function_cache.missed):\n\u001B[1;32m   3357\u001B[0m             return self._define_function_with_shape_relaxation(\n\u001B[0;32m-> 3358\u001B[0;31m                 args, kwargs, flat_args, filtered_flat_args, cache_key_context)\n\u001B[0m\u001B[1;32m   3359\u001B[0m \u001B[0;34m\u001B[0m\u001B[0m\n\u001B[1;32m   3360\u001B[0m           \u001B[0mself\u001B[0m\u001B[0;34m.\u001B[0m\u001B[0m_function_cache\u001B[0m\u001B[0;34m.\u001B[0m\u001B[0mmissed\u001B[0m\u001B[0;34m.\u001B[0m\u001B[0madd\u001B[0m\u001B[0;34m(\u001B[0m\u001B[0mcall_context_key\u001B[0m\u001B[0;34m)\u001B[0m\u001B[0;34m\u001B[0m\u001B[0;34m\u001B[0m\u001B[0m\n",
      "\u001B[0;32m/usr/local/lib/python3.7/dist-packages/tensorflow/python/eager/function.py\u001B[0m in \u001B[0;36m_define_function_with_shape_relaxation\u001B[0;34m(self, args, kwargs, flat_args, filtered_flat_args, cache_key_context)\u001B[0m\n\u001B[1;32m   3278\u001B[0m \u001B[0;34m\u001B[0m\u001B[0m\n\u001B[1;32m   3279\u001B[0m     graph_function = self._create_graph_function(\n\u001B[0;32m-> 3280\u001B[0;31m         args, kwargs, override_flat_arg_shapes=relaxed_arg_shapes)\n\u001B[0m\u001B[1;32m   3281\u001B[0m     \u001B[0mself\u001B[0m\u001B[0;34m.\u001B[0m\u001B[0m_function_cache\u001B[0m\u001B[0;34m.\u001B[0m\u001B[0marg_relaxed\u001B[0m\u001B[0;34m[\u001B[0m\u001B[0mrank_only_cache_key\u001B[0m\u001B[0;34m]\u001B[0m \u001B[0;34m=\u001B[0m \u001B[0mgraph_function\u001B[0m\u001B[0;34m\u001B[0m\u001B[0;34m\u001B[0m\u001B[0m\n\u001B[1;32m   3282\u001B[0m \u001B[0;34m\u001B[0m\u001B[0m\n",
      "\u001B[0;32m/usr/local/lib/python3.7/dist-packages/tensorflow/python/eager/function.py\u001B[0m in \u001B[0;36m_create_graph_function\u001B[0;34m(self, args, kwargs, override_flat_arg_shapes)\u001B[0m\n\u001B[1;32m   3204\u001B[0m             \u001B[0marg_names\u001B[0m\u001B[0;34m=\u001B[0m\u001B[0marg_names\u001B[0m\u001B[0;34m,\u001B[0m\u001B[0;34m\u001B[0m\u001B[0;34m\u001B[0m\u001B[0m\n\u001B[1;32m   3205\u001B[0m             \u001B[0moverride_flat_arg_shapes\u001B[0m\u001B[0;34m=\u001B[0m\u001B[0moverride_flat_arg_shapes\u001B[0m\u001B[0;34m,\u001B[0m\u001B[0;34m\u001B[0m\u001B[0;34m\u001B[0m\u001B[0m\n\u001B[0;32m-> 3206\u001B[0;31m             capture_by_value=self._capture_by_value),\n\u001B[0m\u001B[1;32m   3207\u001B[0m         \u001B[0mself\u001B[0m\u001B[0;34m.\u001B[0m\u001B[0m_function_attributes\u001B[0m\u001B[0;34m,\u001B[0m\u001B[0;34m\u001B[0m\u001B[0;34m\u001B[0m\u001B[0m\n\u001B[1;32m   3208\u001B[0m         \u001B[0mfunction_spec\u001B[0m\u001B[0;34m=\u001B[0m\u001B[0mself\u001B[0m\u001B[0;34m.\u001B[0m\u001B[0mfunction_spec\u001B[0m\u001B[0;34m,\u001B[0m\u001B[0;34m\u001B[0m\u001B[0;34m\u001B[0m\u001B[0m\n",
      "\u001B[0;32m/usr/local/lib/python3.7/dist-packages/tensorflow/python/framework/func_graph.py\u001B[0m in \u001B[0;36mfunc_graph_from_py_func\u001B[0;34m(name, python_func, args, kwargs, signature, func_graph, autograph, autograph_options, add_control_dependencies, arg_names, op_return_value, collections, capture_by_value, override_flat_arg_shapes)\u001B[0m\n\u001B[1;32m    988\u001B[0m         \u001B[0m_\u001B[0m\u001B[0;34m,\u001B[0m \u001B[0moriginal_func\u001B[0m \u001B[0;34m=\u001B[0m \u001B[0mtf_decorator\u001B[0m\u001B[0;34m.\u001B[0m\u001B[0munwrap\u001B[0m\u001B[0;34m(\u001B[0m\u001B[0mpython_func\u001B[0m\u001B[0;34m)\u001B[0m\u001B[0;34m\u001B[0m\u001B[0;34m\u001B[0m\u001B[0m\n\u001B[1;32m    989\u001B[0m \u001B[0;34m\u001B[0m\u001B[0m\n\u001B[0;32m--> 990\u001B[0;31m       \u001B[0mfunc_outputs\u001B[0m \u001B[0;34m=\u001B[0m \u001B[0mpython_func\u001B[0m\u001B[0;34m(\u001B[0m\u001B[0;34m*\u001B[0m\u001B[0mfunc_args\u001B[0m\u001B[0;34m,\u001B[0m \u001B[0;34m**\u001B[0m\u001B[0mfunc_kwargs\u001B[0m\u001B[0;34m)\u001B[0m\u001B[0;34m\u001B[0m\u001B[0;34m\u001B[0m\u001B[0m\n\u001B[0m\u001B[1;32m    991\u001B[0m \u001B[0;34m\u001B[0m\u001B[0m\n\u001B[1;32m    992\u001B[0m       \u001B[0;31m# invariant: `func_outputs` contains only Tensors, CompositeTensors,\u001B[0m\u001B[0;34m\u001B[0m\u001B[0;34m\u001B[0m\u001B[0;34m\u001B[0m\u001B[0m\n",
      "\u001B[0;32m/usr/local/lib/python3.7/dist-packages/tensorflow/python/eager/def_function.py\u001B[0m in \u001B[0;36mwrapped_fn\u001B[0;34m(*args, **kwds)\u001B[0m\n\u001B[1;32m    632\u001B[0m             \u001B[0mxla_context\u001B[0m\u001B[0;34m.\u001B[0m\u001B[0mExit\u001B[0m\u001B[0;34m(\u001B[0m\u001B[0;34m)\u001B[0m\u001B[0;34m\u001B[0m\u001B[0;34m\u001B[0m\u001B[0m\n\u001B[1;32m    633\u001B[0m         \u001B[0;32melse\u001B[0m\u001B[0;34m:\u001B[0m\u001B[0;34m\u001B[0m\u001B[0;34m\u001B[0m\u001B[0m\n\u001B[0;32m--> 634\u001B[0;31m           \u001B[0mout\u001B[0m \u001B[0;34m=\u001B[0m \u001B[0mweak_wrapped_fn\u001B[0m\u001B[0;34m(\u001B[0m\u001B[0;34m)\u001B[0m\u001B[0;34m.\u001B[0m\u001B[0m__wrapped__\u001B[0m\u001B[0;34m(\u001B[0m\u001B[0;34m*\u001B[0m\u001B[0margs\u001B[0m\u001B[0;34m,\u001B[0m \u001B[0;34m**\u001B[0m\u001B[0mkwds\u001B[0m\u001B[0;34m)\u001B[0m\u001B[0;34m\u001B[0m\u001B[0;34m\u001B[0m\u001B[0m\n\u001B[0m\u001B[1;32m    635\u001B[0m         \u001B[0;32mreturn\u001B[0m \u001B[0mout\u001B[0m\u001B[0;34m\u001B[0m\u001B[0;34m\u001B[0m\u001B[0m\n\u001B[1;32m    636\u001B[0m \u001B[0;34m\u001B[0m\u001B[0m\n",
      "\u001B[0;32m/usr/local/lib/python3.7/dist-packages/tensorflow/python/framework/func_graph.py\u001B[0m in \u001B[0;36mwrapper\u001B[0;34m(*args, **kwargs)\u001B[0m\n\u001B[1;32m    975\u001B[0m           \u001B[0;32mexcept\u001B[0m \u001B[0mException\u001B[0m \u001B[0;32mas\u001B[0m \u001B[0me\u001B[0m\u001B[0;34m:\u001B[0m  \u001B[0;31m# pylint:disable=broad-except\u001B[0m\u001B[0;34m\u001B[0m\u001B[0;34m\u001B[0m\u001B[0m\n\u001B[1;32m    976\u001B[0m             \u001B[0;32mif\u001B[0m \u001B[0mhasattr\u001B[0m\u001B[0;34m(\u001B[0m\u001B[0me\u001B[0m\u001B[0;34m,\u001B[0m \u001B[0;34m\"ag_error_metadata\"\u001B[0m\u001B[0;34m)\u001B[0m\u001B[0;34m:\u001B[0m\u001B[0;34m\u001B[0m\u001B[0;34m\u001B[0m\u001B[0m\n\u001B[0;32m--> 977\u001B[0;31m               \u001B[0;32mraise\u001B[0m \u001B[0me\u001B[0m\u001B[0;34m.\u001B[0m\u001B[0mag_error_metadata\u001B[0m\u001B[0;34m.\u001B[0m\u001B[0mto_exception\u001B[0m\u001B[0;34m(\u001B[0m\u001B[0me\u001B[0m\u001B[0;34m)\u001B[0m\u001B[0;34m\u001B[0m\u001B[0;34m\u001B[0m\u001B[0m\n\u001B[0m\u001B[1;32m    978\u001B[0m             \u001B[0;32melse\u001B[0m\u001B[0;34m:\u001B[0m\u001B[0;34m\u001B[0m\u001B[0;34m\u001B[0m\u001B[0m\n\u001B[1;32m    979\u001B[0m               \u001B[0;32mraise\u001B[0m\u001B[0;34m\u001B[0m\u001B[0;34m\u001B[0m\u001B[0m\n",
      "\u001B[0;31mValueError\u001B[0m: in user code:\n\n    /usr/local/lib/python3.7/dist-packages/tensorflow/python/keras/engine/training.py:1233 test_function  *\n        return step_function(self, iterator)\n    /usr/local/lib/python3.7/dist-packages/tensorflow/python/keras/engine/training.py:1224 step_function  **\n        outputs = model.distribute_strategy.run(run_step, args=(data,))\n    /usr/local/lib/python3.7/dist-packages/tensorflow/python/distribute/distribute_lib.py:1259 run\n        return self._extended.call_for_each_replica(fn, args=args, kwargs=kwargs)\n    /usr/local/lib/python3.7/dist-packages/tensorflow/python/distribute/distribute_lib.py:2730 call_for_each_replica\n        return self._call_for_each_replica(fn, args, kwargs)\n    /usr/local/lib/python3.7/dist-packages/tensorflow/python/distribute/distribute_lib.py:3417 _call_for_each_replica\n        return fn(*args, **kwargs)\n    /usr/local/lib/python3.7/dist-packages/tensorflow/python/keras/engine/training.py:1217 run_step  **\n        outputs = model.test_step(data)\n    /usr/local/lib/python3.7/dist-packages/tensorflow/python/keras/engine/training.py:1183 test_step\n        y_pred = self(x, training=False)\n    /usr/local/lib/python3.7/dist-packages/tensorflow/python/keras/engine/base_layer.py:998 __call__\n        input_spec.assert_input_compatibility(self.input_spec, inputs, self.name)\n    /usr/local/lib/python3.7/dist-packages/tensorflow/python/keras/engine/input_spec.py:207 assert_input_compatibility\n        ' input tensors. Inputs received: ' + str(inputs))\n\n    ValueError: Layer model_15 expects 1 input(s), but it received 2 input tensors. Inputs received: [<tf.Tensor 'IteratorGetNext:0' shape=(None, 49) dtype=int32>, <tf.Tensor 'IteratorGetNext:1' shape=(None, 49) dtype=int32>]\n"
     ]
    }
   ]
  },
  {
   "cell_type": "markdown",
   "metadata": {
    "id": "GkkdvFiAne6M"
   },
   "source": [
    "### google"
   ]
  },
  {
   "cell_type": "code",
   "metadata": {
    "id": "dk2R4i81ne6M"
   },
   "source": [
    "def load_google():\n",
    "    Word2VecModel = gensim.models.KeyedVectors.load_word2vec_format(\n",
    "        r\"E:\\CS\\MLT\\GoogleNews-vectors-negative300.bin\", binary=True\n",
    "    )\n",
    "\n",
    "    vocab_list = [word for word, Vocab in Word2VecModel.wv.vocab.items()]  # 存储 所有的 词语\n",
    "\n",
    "    # word_index = {\" \": 0}  # 初始化 `[word : token]` ，后期 tokenize 语料库就是用该词典。\n",
    "    embeddings_index = {}  # 初始化`[word : vector]`字典\n",
    "\n",
    "    for i in range(len(vocab_list)):\n",
    "        # print(i)\n",
    "        word = vocab_list[i]  # 每个词语\n",
    "        # word_index[word] = i + 1 # 词语：序号\n",
    "        embeddings_index[word] = Word2VecModel.wv[word]  # 词语：词向量\n",
    "        # embeddings_matrix[i + 1] = Word2VecModel.wv[word]  # 词向量矩阵\n",
    "    return embeddings_index\n",
    "\n",
    "\n",
    "def load_fasttext_embeddings():\n",
    "    glove_dir = r\"E:\\CS\\MLT\\glove.6B\"\n",
    "    embeddings_index = {}\n",
    "    f = open(os.path.join(glove_dir, \"glove.6B.50d.txt\"), encoding=\"utf-8\")\n",
    "    for line in f:\n",
    "        values = line.split()\n",
    "        word = values[0]\n",
    "        coefs = np.asarray(values[1:], dtype=\"float32\")\n",
    "        embeddings_index[word] = coefs\n",
    "    f.close()\n",
    "    print(\"Found %s word vectors.\" % len(embeddings_index))\n",
    "    return embeddings_index\n",
    "\n",
    "\n",
    "def create_embeddings_matrix(embeddings_index, vocabulary, embedding_dim=100):\n",
    "    embeddings_matrix = np.random.rand(len(vocabulary) + 1, embedding_dim)\n",
    "    for i, word in enumerate(vocabulary):\n",
    "        embedding_vector = embeddings_index.get(word)\n",
    "        if embedding_vector is not None:\n",
    "            embeddings_matrix[i] = embedding_vector\n",
    "    print(\"Matrix shape: {}\".format(embeddings_matrix.shape))\n",
    "    return embeddings_matrix\n",
    "\n",
    "\n",
    "embeddings_index = load_google()\n",
    "embeddings_matrix = create_embeddings_matrix(embeddings_index, word_index, 300)"
   ],
   "execution_count": null,
   "outputs": []
  },
  {
   "cell_type": "code",
   "metadata": {
    "id": "ANOlCJ1tne6P"
   },
   "source": [
    "import gensim\n",
    "\n",
    "Word2VecModel = gensim.models.KeyedVectors.load_word2vec_format(\n",
    "    r\"E:\\CS\\MLT\\GoogleNews-vectors-negative300.bin\", binary=True\n",
    ")\n",
    "\n",
    "vocab_list = [word for word, Vocab in Word2VecModel.wv.vocab.items()]  # 存储 所有的 词语\n",
    "\n",
    "word_index = {\" \": 0}  # 初始化 `[word : token]` ，后期 tokenize 语料库就是用该词典。\n",
    "word_vector = {}  # 初始化`[word : vector]`字典\n",
    "\n",
    "for i in range(len(vocab_list)):\n",
    "    # print(i)\n",
    "    word = vocab_list[i]  # 每个词语\n",
    "    #     word_index[word] = i + 1 # 词语：序号\n",
    "    #     word_vector[word] = Word2VecModel.wv[word] # 词语：词向量\n",
    "    embeddings_matrix[i + 1] = Word2VecModel.wv[word]  # 词向量矩阵"
   ],
   "execution_count": null,
   "outputs": []
  }
 ]
}
